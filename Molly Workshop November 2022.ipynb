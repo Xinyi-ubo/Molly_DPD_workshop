{
 "cells": [
  {
   "cell_type": "markdown",
   "id": "1a1416f6",
   "metadata": {},
   "source": [
    "# Implementing Dissipative Particle Dynamics in Molly\n",
    "\n",
    "The aim of this workshop is to go through the process of implementing a numerical method from scratch using the software package [Molly](https://github.com/JuliaMolSim/Molly.jl), which is a Julia package for molecular simulation. Along the way, we will get familiar with some of Molly's many functionalities designed to make molecular simulation easy, as well as some of the tricks that go into implementing new ones.\n",
    "\n",
    "To run this notebook, you will be needing a working installation of [Julia](https://julialang.org/) (we suggest the current stable release), as well as [IJulia](https://juliapackages.com/p/ijulia).\n",
    "\n",
    "We setup the notebook to use Molly and GLMakie for visualization purposes.\n"
   ]
  },
  {
   "cell_type": "code",
   "execution_count": 21,
   "id": "01a8af54",
   "metadata": {},
   "outputs": [
    {
     "name": "stderr",
     "output_type": "stream",
     "text": [
      "\u001b[32m\u001b[1m   Resolving\u001b[22m\u001b[39m package versions...\n",
      "\u001b[32m\u001b[1m  No Changes\u001b[22m\u001b[39m to `~/.julia/environments/v1.8/Project.toml`\n",
      "\u001b[32m\u001b[1m  No Changes\u001b[22m\u001b[39m to `~/.julia/environments/v1.8/Manifest.toml`\n",
      "\u001b[32m\u001b[1m   Resolving\u001b[22m\u001b[39m package versions...\n",
      "\u001b[32m\u001b[1m  No Changes\u001b[22m\u001b[39m to `~/.julia/environments/v1.8/Project.toml`\n",
      "\u001b[32m\u001b[1m  No Changes\u001b[22m\u001b[39m to `~/.julia/environments/v1.8/Manifest.toml`\n",
      "\u001b[32m\u001b[1m   Resolving\u001b[22m\u001b[39m package versions...\n",
      "\u001b[32m\u001b[1m  No Changes\u001b[22m\u001b[39m to `~/.julia/environments/v1.8/Project.toml`\n",
      "\u001b[32m\u001b[1m  No Changes\u001b[22m\u001b[39m to `~/.julia/environments/v1.8/Manifest.toml`\n"
     ]
    }
   ],
   "source": [
    "import Pkg\n",
    "\n",
    "Pkg.add(\"Molly\")\n",
    "Pkg.add(\"GLMakie\") # for visualization\n",
    "Pkg.add(\"Plots\")\n",
    "\n",
    "using Molly, GLMakie, Random, LinearAlgebra, Plots"
   ]
  },
  {
   "cell_type": "markdown",
   "id": "751a3f19",
   "metadata": {},
   "source": []
  },
  {
   "cell_type": "markdown",
   "id": "777d1351",
   "metadata": {},
   "source": []
  },
  {
   "cell_type": "code",
   "execution_count": 15,
   "id": "45e27a0d",
   "metadata": {},
   "outputs": [
    {
     "ename": "LoadError",
     "evalue": "invalid redefinition of constant DPDInteraction",
     "output_type": "error",
     "traceback": [
      "invalid redefinition of constant DPDInteraction",
      "",
      "Stacktrace:",
      " [1] top-level scope",
      "   @ In[15]:2",
      " [2] eval",
      "   @ ./boot.jl:368 [inlined]",
      " [3] include_string(mapexpr::typeof(REPL.softscope), mod::Module, code::String, filename::String)",
      "   @ Base ./loading.jl:1428"
     ]
    }
   ],
   "source": [
    "\n",
    "struct DPDInteraction{S,T,U} <: PairwiseInteraction\n",
    "    nl_only :: Bool # a Boolean parameter which forces the simulator to use the neighbor list\n",
    "    cutoff_radius :: S # cutoff radius\n",
    "    coefficients :: T # the parameters of the interaction, we will assume that it is a function f(i,j)->a_ij\n",
    "    \n",
    "    sq_cutoff_radius :: U\n",
    "    inv_cutoff_radius :: V\n",
    "\n",
    "    force_units :: F\n",
    "    energy_units :: E \n",
    "end\n",
    "\n",
    "function DPDInteraction(nl_only, cutoff_radius,coefficients ; force_units = NoUnits, energy_units = NoUnits)\n",
    "    #constructor to spare the user from computing the squared cutoff radius automatically\n",
    "    \n",
    "    sq_cutoff_radius = cutoff_radius^2\n",
    "    inv_cutoff_radius = inv(cutoff_radius)\n",
    "    \n",
    "    S=typeof(cutoff_radius)\n",
    "    T=typeof(coefficients)\n",
    "    \n",
    "    U=typeof(sq_cutoff_radius)\n",
    "    V=typeof(inv_cutoff_radius)\n",
    "    \n",
    "    F = typeof(force_units)\n",
    "    E = typeof(energy_units)\n",
    "    \n",
    "    return DPDInteraction{S,T,U,V,F,E}(nl_only,cutoff_radius,sq_cutoff_radius,coefficients,force_units,energy_units)\n",
    "end"
   ]
  },
  {
   "cell_type": "code",
   "execution_count": 8,
   "id": "083797a9",
   "metadata": {},
   "outputs": [],
   "source": [
    "function Molly.force(inter::DPDInteraction{S,T}, dr, qi, qj, atom_i, atom_j, boundary) where {S,T}    \n",
    "    r2=sum(abs2,dr)\n",
    "    (r2 > inter.sq_cutoff_radius) && return zero(dr) # set force to zero beyond the cutoff radius\n",
    "    \n",
    "    i = atom_i.index\n",
    "    j = atom_j.index \n",
    "    a_ij = inter.coefficients(i,j)\n",
    "    \n",
    "    return a_ij*(inv(sqrt(r2)) - inter.inv_cutoff_radius)*dr\n",
    "    \n",
    "end"
   ]
  },
  {
   "cell_type": "code",
   "execution_count": 26,
   "id": "04084ef0",
   "metadata": {},
   "outputs": [
    {
     "ename": "LoadError",
     "evalue": "invalid redefinition of constant DPDSplitting",
     "output_type": "error",
     "traceback": [
      "invalid redefinition of constant DPDSplitting",
      "",
      "Stacktrace:",
      " [1] top-level scope",
      "   @ In[26]:1",
      " [2] eval",
      "   @ ./boot.jl:368 [inlined]",
      " [3] include_string(mapexpr::typeof(REPL.softscope), mod::Module, code::String, filename::String)",
      "   @ Base ./loading.jl:1428"
     ]
    }
   ],
   "source": [
    "struct DPDSplitting{S,T,U,V,W}\n",
    "    weights::S # assume weights is a function r -> wR(r)\n",
    "    friction::T\n",
    "    β::U\n",
    "    splitting::V\n",
    "    dt::W\n",
    "    \n",
    "    remove_CM_motion::Bool\n",
    "end\n",
    "\n",
    "function DPDSplitting(;weights, friction, temperature, k=1.0, splitting ,dt, remove_CM_motion = True)\n",
    "    S = typeof(weights)\n",
    "    T = typeof(friction)\n",
    "    β = inv(k*temperature),w\n",
    "    U = typeof(β)\n",
    "    V = typeof(splitting)\n",
    "    W=typeof(dt)\n",
    "    \n",
    "    return DPDSplitting{S,T,U,V}(weights,friction,β,splitting, remove_CM_motion)\n",
    "end"
   ]
  },
  {
   "cell_type": "markdown",
   "id": "360d9884",
   "metadata": {},
   "source": [
    "In the next step, we define the skeleton for our integrator. This is done by implementing a method for `Molly.simulate` for a simulator of type `DPDSplitting`. This function sets up the simulation, and is in charge of running the iterations. It is almost line for line the same as the `Molly.simulate!` method for the `LangevinSplitting` type of the simulator argument, so maybe the correct way to implement this for \"production\" purposes would be to define a common type for all splitting integrators (e.g. Langevin, DPD, Norton...) and have each of these simulator types define a method for the corresponding A,B and O steps."
   ]
  },
  {
   "cell_type": "code",
   "execution_count": 28,
   "id": "a4332a89",
   "metadata": {},
   "outputs": [],
   "source": [
    "function Molly.simulate!(sys,simulator::DPDSplitting,n_steps; n_threads=Threads.nthreads(), rng = Random.GLOBAL_RNG)\n",
    "    M_inv = inv.(masses(sys))\n",
    "\n",
    "\n",
    "    sys.coords = wrap_coords.(sys.coords, (sys.boundary,))\n",
    "    sim.remove_CM_motion && remove_CM_motion!(sys)\n",
    "    neighbors = find_neighbors(sys, sys.neighbor_finder; n_threads=n_threads)\n",
    "    run_loggers!(sys, neighbors, 0; n_threads=n_threads)\n",
    "    accels_t = accelerations(sys, neighbors; n_threads=n_threads)\n",
    "\n",
    "    effective_dts = [sim.dt / count(c, sim.splitting) for c in sim.splitting]\n",
    "\n",
    "    # Determine the need to recompute accelerations before B steps\n",
    "    forces_known = !occursin(r\"^.*B[^B]*A[^B]*$\", sim.splitting)\n",
    "\n",
    "    force_computation_steps = map(collect(sim.splitting)) do op\n",
    "        if op == 'O'\n",
    "            return false\n",
    "        elseif op == 'A'\n",
    "            forces_known = false\n",
    "            return false\n",
    "        elseif op == 'B'\n",
    "            if forces_known\n",
    "                return false\n",
    "            else\n",
    "                forces_known = true\n",
    "                return true\n",
    "            end\n",
    "        end\n",
    "    end\n",
    "\n",
    "    step_arg_pairs = map(enumerate(sim.splitting)) do (j, op)\n",
    "        if op == 'A'\n",
    "            return (Molly.A_step!, (sys, effective_dts[j]))\n",
    "        elseif op == 'B'\n",
    "            return (Molly.B_step!, (sys, effective_dts[j], accels_t, force_computation_steps[j], n_threads))\n",
    "        elseif op == 'O'\n",
    "            return (O_step_DPD!, (sys, effective_dts[j], rng, sim.temperature,sim.weights, n_threads))\n",
    "        end\n",
    "    end\n",
    "    \n",
    "     for step_n in 1:n_steps\n",
    "        old_coords = copy(sys.coords)\n",
    "        for (step!, args) in step_arg_pairs\n",
    "            step!(args..., neighbors)\n",
    "        end\n",
    "        \n",
    "        apply_constraints!(sys, old_coords, sim.dt)\n",
    "        sys.coords = wrap_coords.(sys.coords, (sys.boundary,))\n",
    "        sim.remove_CM_motion && remove_CM_motion!(sys)\n",
    "        run_loggers!(sys, neighbors, step_n)\n",
    "        \n",
    "        if step_n != n_steps\n",
    "            neighbors = find_neighbors(sys, sys.neighbor_finder, neighbors, step_n;\n",
    "                                        n_threads=n_threads)\n",
    "        end\n",
    "    end\n",
    "    return sys\n",
    "    \n",
    "end\n",
    "\n"
   ]
  },
  {
   "cell_type": "markdown",
   "id": "ddafff25",
   "metadata": {},
   "source": [
    "The A and B steps are the same as for the standard Langevin method, they have already been implemented in Molly for the purpose of the `LangevinSplitting` integrator, so we only need to implement the O step."
   ]
  },
  {
   "cell_type": "code",
   "execution_count": 27,
   "id": "80809fff",
   "metadata": {},
   "outputs": [
    {
     "data": {
      "text/plain": [
       "A_step_DPD! (generic function with 1 method)"
      ]
     },
     "execution_count": 27,
     "metadata": {},
     "output_type": "execute_result"
    }
   ],
   "source": [
    "function O_step_DPD!(sys,dt,rng,sim.temperature,sim.weights,neighbors)\n",
    "    for (i,j,_) = neighbors.list\n",
    "        dr = vector(sys.coords[i],sys.coords[j],sys.boundary)\n",
    "        \n",
    "        r = sqrt(sum(abs2,dr))\n",
    "        dv = sys.velocities[j]-sys.velocities[i]\n",
    "        vij=dot(dr,dv)/r #relative velocity\n",
    "        \n",
    "        mi=sys.atoms[i].mass\n",
    "        mj=sys.atoms[j].mass\n",
    "        \n",
    "        mij=(mi*mj)/(mi+mj) #relative mass\n",
    "        \n",
    "        w=sim.weights(r)\n",
    "        \n",
    "    end\n",
    "    \n",
    "end"
   ]
  },
  {
   "cell_type": "code",
   "execution_count": null,
   "id": "4ecec632",
   "metadata": {},
   "outputs": [],
   "source": []
  }
 ],
 "metadata": {
  "kernelspec": {
   "display_name": "Julia 1.8.2",
   "language": "julia",
   "name": "julia-1.8"
  },
  "language_info": {
   "file_extension": ".jl",
   "mimetype": "application/julia",
   "name": "julia",
   "version": "1.8.2"
  }
 },
 "nbformat": 4,
 "nbformat_minor": 5
}
